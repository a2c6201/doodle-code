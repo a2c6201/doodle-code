{
 "cells": [
  {
   "cell_type": "markdown",
   "metadata": {},
   "source": [
    "# ビーコンを認識するための演習2.5\n",
    "## 2. コードを速読する\n",
    "### 2.3 読めるコードよりも見えるコードの方が多い\n",
    "\n",
    "ちなみにこれの問題文は\n",
    "1 からN までの番号が付いたN 人のプレイヤーが総当たり戦をしました。この総当たり戦で行われた試合全てについて、二人の一方が勝ち、もう一方が負けました。\n",
    "総当たり戦の結果はN 個の長さN の文字列 S1,S2,…,S\n",
    "\n",
    "総当たり戦で勝った試合数が多いほうが順位が上であり、勝った試合数が同じ場合は、プレイヤーの番号が小さいほうが順位が上となります。 \n",
    "N 人のプレイヤーの番号を順位が高い順に答えてください。\n",
    "\n",
    "https://atcoder.jp/contests/abc323/tasks/abc323_b\n",
    "\n",
    "解説動画 \\\n"
   ]
  },
  {
   "cell_type": "code",
   "execution_count": null,
   "metadata": {},
   "outputs": [],
   "source": [
    "N = int(input())\n",
    "\n",
    "G = [[] for _ in range(N)]\n",
    "for p in range(1, N + 1):\n",
    "    S = input()\n",
    "    win_cnt = S.count('o')\n",
    "    G[win_cnt].append(p)\n",
    "\n",
    "for i in range(N - 1, -1, -1):\n",
    "    for p in G[i]:\n",
    "        # 小さいプレイヤー番号から順に格納していたので、\n",
    "        # ソートしなくてもG[i]はすでに小さい順に並んでる。\n",
    "        print(p, end=' ')\n"
   ]
  },
  {
   "cell_type": "code",
   "execution_count": 1,
   "metadata": {},
   "outputs": [
    {
     "ename": "ValueError",
     "evalue": "invalid literal for int() with base 10: ''",
     "output_type": "error",
     "traceback": [
      "\u001b[0;31m---------------------------------------------------------------------------\u001b[0m",
      "\u001b[0;31mValueError\u001b[0m                                Traceback (most recent call last)",
      "Cell \u001b[0;32mIn[1], line 6\u001b[0m\n\u001b[1;32m      3\u001b[0m     ranks \u001b[38;5;241m=\u001b[39m \u001b[38;5;28msorted\u001b[39m(\u001b[38;5;28mrange\u001b[39m(\u001b[38;5;241m1\u001b[39m, n\u001b[38;5;241m+\u001b[39m\u001b[38;5;241m1\u001b[39m), key\u001b[38;5;241m=\u001b[39m\u001b[38;5;28;01mlambda\u001b[39;00m i: (\u001b[38;5;241m-\u001b[39mwins[i\u001b[38;5;241m-\u001b[39m\u001b[38;5;241m1\u001b[39m], i))\n\u001b[1;32m      4\u001b[0m     \u001b[38;5;28;01mreturn\u001b[39;00m ranks\n\u001b[0;32m----> 6\u001b[0m n \u001b[38;5;241m=\u001b[39m \u001b[38;5;28;43mint\u001b[39;49m\u001b[43m(\u001b[49m\u001b[38;5;28;43minput\u001b[39;49m\u001b[43m(\u001b[49m\u001b[43m)\u001b[49m\u001b[38;5;241;43m.\u001b[39;49m\u001b[43mstrip\u001b[49m\u001b[43m(\u001b[49m\u001b[43m)\u001b[49m\u001b[43m)\u001b[49m\n\u001b[1;32m      7\u001b[0m results \u001b[38;5;241m=\u001b[39m [\u001b[38;5;28minput\u001b[39m()\u001b[38;5;241m.\u001b[39mstrip() \u001b[38;5;28;01mfor\u001b[39;00m _ \u001b[38;5;129;01min\u001b[39;00m \u001b[38;5;28mrange\u001b[39m(n)]\n\u001b[1;32m      8\u001b[0m ranks \u001b[38;5;241m=\u001b[39m rank_players(n, results)\n",
      "\u001b[0;31mValueError\u001b[0m: invalid literal for int() with base 10: ''"
     ]
    }
   ],
   "source": [
    "def rank_players(n, results):\n",
    "    wins = [result.count('o') for result in results]\n",
    "    ranks = sorted(range(1, n+1), key=lambda i: (-wins[i-1], i))\n",
    "    return ranks\n",
    "\n",
    "n = int(input().strip())\n",
    "results = [input().strip() for _ in range(n)]\n",
    "ranks = rank_players(n, results)\n",
    "print(' '.join(map(str, ranks)))"
   ]
  },
  {
   "cell_type": "markdown",
   "metadata": {},
   "source": [
    "## 2. コードの要約\n"
   ]
  },
  {
   "cell_type": "markdown",
   "metadata": {},
   "source": [
    "n人の勝敗結果を入力として受取、ランキング順に出力するコード"
   ]
  },
  {
   "cell_type": "markdown",
   "metadata": {},
   "source": [
    "## 3. ビーコン探す\n",
    "- resultsで結果が複数入ってるんだということ\n",
    "- win_cntで勝利数\n",
    "- コメント"
   ]
  },
  {
   "cell_type": "markdown",
   "metadata": {},
   "source": [
    "## 4. 振り返る\n",
    "- どんなビーコン？どんな知識？機能? \\\n",
    "中間値の変数名や、関数名、処理についての補足\n",
    "変数名、関数名によりどんな値が入るのか、どんな処理が行われるのかが、大まかにわかった。\n",
    "- コード？コメント？ \\\n",
    "コードが多い"
   ]
  },
  {
   "cell_type": "markdown",
   "metadata": {},
   "source": [
    "## 6. 他の人と比べてみる"
   ]
  },
  {
   "cell_type": "code",
   "execution_count": null,
   "metadata": {},
   "outputs": [],
   "source": [
    "n = int(input())\n",
    "dic = dict()\n",
    "for i in range(n):\n",
    "  s = input()\n",
    "  c = s.count('o')\n",
    "  dic[i+1] = c\n",
    "\n",
    "d = sorted(dic.items(), key=lambda x:x[1], reverse=True)\n",
    "for p,i in d:\n",
    "  print(p, end=' ')"
   ]
  }
 ],
 "metadata": {
  "kernelspec": {
   "display_name": "Python 3",
   "language": "python",
   "name": "python3"
  },
  "language_info": {
   "codemirror_mode": {
    "name": "ipython",
    "version": 3
   },
   "file_extension": ".py",
   "mimetype": "text/x-python",
   "name": "python",
   "nbconvert_exporter": "python",
   "pygments_lexer": "ipython3",
   "version": "3.9.18"
  }
 },
 "nbformat": 4,
 "nbformat_minor": 2
}
