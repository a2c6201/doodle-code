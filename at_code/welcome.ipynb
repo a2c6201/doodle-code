{
 "cells": [
  {
   "cell_type": "markdown",
   "metadata": {},
   "source": [
    "問題文\n",
    "高橋君はデータの加工が行いたいです。\n",
    "\n",
    "整数 \n",
    "a,b,cと、文字列 \n",
    "s が与えられます。 \n",
    "a+b+c の計算結果と、文字列 \n",
    "s を並べて表示しなさい。\n",
    "\n",
    "制約\n",
    "1≤a,b,c≤1,000\n",
    "1≤\n",
    "∣s∣\n",
    "≤100\n",
    "入力\n",
    "入力は以下の形式で与えられる。"
   ]
  },
  {
   "cell_type": "code",
   "execution_count": 2,
   "metadata": {},
   "outputs": [
    {
     "name": "stdout",
     "output_type": "stream",
     "text": [
      "6 put\n"
     ]
    }
   ],
   "source": [
    "a = input()\n",
    "b, c = input().split()\n",
    "s = input()\n",
    "\n",
    "sum = int(a) + int(b) + int(c)\n",
    "print(sum, s)"
   ]
  }
 ],
 "metadata": {
  "kernelspec": {
   "display_name": "miyata-text",
   "language": "python",
   "name": "python3"
  },
  "language_info": {
   "codemirror_mode": {
    "name": "ipython",
    "version": 3
   },
   "file_extension": ".py",
   "mimetype": "text/x-python",
   "name": "python",
   "nbconvert_exporter": "python",
   "pygments_lexer": "ipython3",
   "version": "3.9.16"
  }
 },
 "nbformat": 4,
 "nbformat_minor": 2
}
