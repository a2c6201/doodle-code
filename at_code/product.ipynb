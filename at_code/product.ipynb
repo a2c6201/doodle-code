{
 "cells": [
  {
   "cell_type": "markdown",
   "metadata": {},
   "source": [
    "問題文\n",
    "シカのAtCoDeerくんは二つの正整数 \n",
    "a,b を見つけました。 \n",
    "a と \n",
    "b の積が偶数か奇数か判定してください。\n",
    "\n",
    "制約\n",
    "1 \n",
    "≤ \n",
    "a,b \n",
    "≤ \n",
    "10000\n",
    "a,b は整数\n",
    "入力\n",
    "入力は以下の形式で標準入力から与えられる。\n",
    "\n",
    "a \n",
    "b\n",
    "出力\n",
    "積が奇数なら Odd と、 偶数なら Even と出力せよ。"
   ]
  },
  {
   "cell_type": "code",
   "execution_count": 3,
   "metadata": {},
   "outputs": [
    {
     "name": "stdout",
     "output_type": "stream",
     "text": [
      "Odd\n"
     ]
    }
   ],
   "source": [
    "a, b = map(int, input().split())\n",
    "\n",
    "if a*b % 2 == 0:\n",
    "    print(\"Even\")\n",
    "else:\n",
    "    print(\"Odd\")\n"
   ]
  },
  {
   "cell_type": "markdown",
   "metadata": {},
   "source": [
    "# Placing Marbles\n",
    "## 問題文\n",
    "すぬけ君は \n",
    "1,2,3 の番号がついた \n",
    "3 つのマスからなるマス目を持っています。 各マスには 0 か 1 が書かれており、マス \n",
    "i には \n",
    "s \n",
    "i\n",
    "​\n",
    "  が書かれています。\n",
    "\n",
    "すぬけ君は 1 が書かれたマスにビー玉を置きます。 ビー玉が置かれるマスがいくつあるか求めてください。\n",
    "\n",
    "## 制約\n",
    "s1\n",
    "​\n",
    " ,s2\n",
    "​\n",
    " ,s3は 1 あるいは 0\n",
    "入力\n",
    "入力は以下の形式で標準入力から与えられる。\n",
    "\n",
    "s1\n",
    "​\n",
    " s2\n",
    "​\n",
    " s3"
   ]
  },
  {
   "cell_type": "code",
   "execution_count": 10,
   "metadata": {},
   "outputs": [
    {
     "name": "stdout",
     "output_type": "stream",
     "text": [
      "1\n"
     ]
    }
   ],
   "source": [
    "s = input()\n",
    "\n",
    "s1, s2, s3 = map(int, str(s))\n",
    "\n",
    "result = s1 + s2 + s3\n",
    "print(result)\n"
   ]
  },
  {
   "cell_type": "code",
   "execution_count": 13,
   "metadata": {},
   "outputs": [
    {
     "name": "stdout",
     "output_type": "stream",
     "text": [
      "3\n"
     ]
    }
   ],
   "source": [
    "# 上でも正解だが\n",
    "S = str(input())\n",
    "print(S.count('1'))"
   ]
  },
  {
   "cell_type": "markdown",
   "metadata": {},
   "source": [
    "# Shift only\n",
    "## 問題文\n",
    "黒板にN 個の正の整数A1\n",
    " ,...,A \n",
    "N\n",
    "が書かれています．\n",
    "\n",
    "すぬけ君は，黒板に書かれている整数がすべて偶数であるとき，次の操作を行うことができます．\n",
    "\n",
    "黒板に書かれている整数すべてを，\n",
    "2 で割ったものに置き換える．\n",
    "すぬけ君は最大で何回操作を行うことができるかを求めてください．\n",
    "### 入力\n",
    "N \\\n",
    "A1 A2 ...AN\n",
    "### 出力\n"
   ]
  },
  {
   "cell_type": "code",
   "execution_count": 8,
   "metadata": {},
   "outputs": [
    {
     "name": "stdout",
     "output_type": "stream",
     "text": [
      "2\n"
     ]
    }
   ],
   "source": [
    "n = int(input())\n",
    "a_list = list(map(int, input().split()))\n",
    "\n",
    "# print(len(a_list))\n",
    "count = 0\n",
    "\n",
    "while all(i % 2 == 0 for i in a_list):   # all()は全ての要素がTrueならTrueを返す\n",
    "    a_list = [i/2 for i in a_list]\n",
    "    count += 1\n",
    "\n",
    "print(count)"
   ]
  }
 ],
 "metadata": {
  "kernelspec": {
   "display_name": "miyata-text",
   "language": "python",
   "name": "python3"
  },
  "language_info": {
   "codemirror_mode": {
    "name": "ipython",
    "version": 3
   },
   "file_extension": ".py",
   "mimetype": "text/x-python",
   "name": "python",
   "nbconvert_exporter": "python",
   "pygments_lexer": "ipython3",
   "version": "3.9.16"
  }
 },
 "nbformat": 4,
 "nbformat_minor": 2
}
