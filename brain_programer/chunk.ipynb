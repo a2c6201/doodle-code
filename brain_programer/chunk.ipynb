{
 "cells": [
  {
   "cell_type": "markdown",
   "metadata": {},
   "source": [
    "# ビーコンを認識するための演習2.5\n",
    "## 2. コードを速読する\n",
    "### 2.3 読めるコードよりも見えるコードの方が多い\n",
    "\n",
    "ちなみにこれの問題文は\n",
    "座標平面上に高橋君と荷物があり、それを目的地まで運ぶまでの最短を計算するコードだった。 \\\n",
    "ここでの[[チャンク化#ビーコン]]はax, byなどの変数名。 \\\n",
    "これにより、読み手に座標面かなと思わせてくれる。\n",
    "\n",
    "https://atcoder.jp/contests/abc323/tasks/abc323_f?lang=ja\n",
    "\n",
    "解説動画 \\\n",
    "https://www.youtube.com/watch?v=Lxj4TSntj0U&t=5566s"
   ]
  },
  {
   "cell_type": "code",
   "execution_count": 1,
   "metadata": {},
   "outputs": [
    {
     "name": "stdout",
     "output_type": "stream",
     "text": [
      "9\n"
     ]
    }
   ],
   "source": [
    "# distは距離って単語だった気がする\n",
    "def dist(ax, ay, bx, by):\n",
    "    # absは絶対値を返す\n",
    "    return abs(ax - bx) + abs(ay - by)\n",
    "\n",
    "# aが人、bが荷物、cが目的地\n",
    "ax, ay, bx, by, cx, cy = map(int, input().split())\n",
    "\n",
    "# answerかな、これを最後に使うのかな\n",
    "# 荷物と目的地の距離\n",
    "ans = dist(bx, by, cx, cy)\n",
    "\n",
    "# 荷物と目的地が同じ座標に無いとき\n",
    "if bx != cx and by != cy:\n",
    "    ans += 2\n",
    "\n",
    "inf = 2**63 - 1\n",
    "dx, dy, ex, ey = inf, inf, inf, inf\n",
    "\n",
    "# 目的地が遠ければ、\n",
    "if bx < cx:\n",
    "    dx, dy = bx - 1, by\n",
    "# 目的地が近ければ、\n",
    "elif cx < bx:\n",
    "    dx, dy = bx + 1, by\n",
    "\n",
    "# 人と目的地と荷物のy座標が同じで、荷物が人と目的地のx座標の間にあるとき\n",
    "if ay == cy == dy and (ax < bx < dx or dx < bx < ax):\n",
    "    dz = 2\n",
    "else:\n",
    "    dz = 0\n",
    "\n",
    "if by < cy:\n",
    "    ex, ey = bx, by - 1\n",
    "elif cy < by:\n",
    "    ex, ey = bx, by + 1\n",
    "\n",
    "if ax == cx == ex and (ay < by < ey or ey < by < ay):\n",
    "    ez = 2\n",
    "else:\n",
    "    ez = 0\n",
    "\n",
    "# 荷物と目的地の距離と、人と荷物と目的地の距離の小さい方を足す\n",
    "# min()\n",
    "ans += min(dist(ax, ay, dx, dy) + dz, dist(ax, ay, ex, ey) + ez)\n",
    "\n",
    "print(ans)\n"
   ]
  },
  {
   "cell_type": "markdown",
   "metadata": {},
   "source": [
    "## 2. コードの要約\n"
   ]
  },
  {
   "cell_type": "markdown",
   "metadata": {},
   "source": [
    "座標平面上に高橋君と荷物があり、それを目的地まで運ぶまでの最短を計算するコード。\n",
    "ルールに基づいて荷物を移動させている。"
   ]
  },
  {
   "cell_type": "markdown",
   "metadata": {},
   "source": [
    "## 3. ビーコン探す"
   ]
  },
  {
   "cell_type": "markdown",
   "metadata": {},
   "source": [
    "## 4. 振り返る"
   ]
  },
  {
   "cell_type": "markdown",
   "metadata": {},
   "source": [
    "## 5. コードに反映させる"
   ]
  },
  {
   "cell_type": "markdown",
   "metadata": {},
   "source": [
    "## 6. 他の人と比べてみる"
   ]
  },
  {
   "cell_type": "code",
   "execution_count": null,
   "metadata": {},
   "outputs": [],
   "source": [
    "xa, ya, xb, yb, xc, yc = list(map(int, input().split()))\n",
    "xa -= xc; xb -= xc; ya -= yc; yb -= yc\n",
    "if xb < 0: xa *= -1; xb *= -1\n",
    "if yb < 0: ya *= -1; yb *= -1\n",
    "res = 0\n",
    "if yb == 0: res = (abs(ya) + abs(xb + 1 - xa)) + xb + 2 * (ya == 0 and xa < xb)\n",
    "elif xb == 0: res = (abs(xa) + abs(yb + 1 - ya)) + yb + 2 * (xa == 0 and ya < yb)\n",
    "else: res = min(abs(xb + 1 - xa) + abs(yb - ya), abs(xb - xa) + abs(yb + 1 - ya)) + xb + yb + 2\n",
    "print(res)\n"
   ]
  },
  {
   "cell_type": "code",
   "execution_count": null,
   "metadata": {},
   "outputs": [],
   "source": [
    "\"\"\"\n",
    "F - Push and Carry\n",
    "https://atcoder.jp/contests/abc323/tasks/abc323_f\n",
    "\"\"\"\n",
    "import sys\n",
    "\n",
    "input = sys.stdin.readline\n",
    "\n",
    "\n",
    "XA, YA, XB, YB, XC, YC = map(int, input().split())\n",
    "A = [XA, YA]\n",
    "B = [XB, YB]\n",
    "C = [XC, YC]\n",
    "\n",
    "\n",
    "def calc_dist(A, B):\n",
    "    return abs(A[0] - B[0]) + abs(A[1] - B[1])\n",
    "\n",
    "\n",
    "def calc_dist1(A, B, to_A):\n",
    "    if A[1] == B[1] == to_A[1]:\n",
    "        if A[0] <= B[0] <= to_A[0]:\n",
    "            return abs(A[0] - to_A[0]) + abs(A[1] - to_A[1]) + 2\n",
    "        if to_A[0] <= B[0] <= A[0]:\n",
    "            return abs(A[0] - to_A[0]) + abs(A[1] - to_A[1]) + 2\n",
    "\n",
    "    if A[0] == B[0] == to_A[0]:\n",
    "        if A[1] <= B[1] <= to_A[1]:\n",
    "            return abs(A[0] - to_A[0]) + abs(A[1] - to_A[1]) + 2\n",
    "\n",
    "        if to_A[1] <= B[1] <= A[1]:\n",
    "            return abs(A[0] - to_A[0]) + abs(A[1] - to_A[1]) + 2\n",
    "\n",
    "    return abs(A[0] - to_A[0]) + abs(A[1] - to_A[1])\n",
    "\n",
    "\n",
    "# 5:\n",
    "if B[0] == C[0] and B[1] < C[1]:\n",
    "    to_A = [B[0], B[1] - 1]\n",
    "    ans = calc_dist1(A, B, to_A) + calc_dist(B, C)\n",
    "\n",
    "# 6:\n",
    "elif B[0] == C[0] and B[1] > C[1]:\n",
    "    to_A = [B[0], B[1] + 1]\n",
    "    ans = calc_dist1(A, B, to_A) + calc_dist(B, C)\n",
    "\n",
    "# 7:\n",
    "elif B[1] == C[1] and B[0] < C[0]:\n",
    "    to_A = [B[0] - 1, B[1]]\n",
    "    ans = calc_dist1(A, B, to_A) + calc_dist(B, C)\n",
    "\n",
    "# 8:\n",
    "elif B[1] == C[1] and B[0] > C[0]:\n",
    "    to_A = [B[0] + 1, B[1]]\n",
    "    ans = calc_dist1(A, B, to_A) + calc_dist(B, C)\n",
    "\n",
    "# 1:\n",
    "elif B[0] < C[0] and B[1] < C[1]:\n",
    "    to_A1 = [B[0], B[1] - 1]\n",
    "    to_A2 = [B[0] - 1, B[1]]\n",
    "\n",
    "    ans = calc_dist(B, C) + min(\n",
    "        calc_dist1(A, B, to_A1),\n",
    "        calc_dist1(A, B, to_A2)\n",
    "    ) + 2\n",
    "\n",
    "# 2:\n",
    "elif B[0] < C[0] and B[1] > C[1]:\n",
    "    to_A1 = [B[0], B[1] + 1]\n",
    "    to_A2 = [B[0] - 1, B[1]]\n",
    "\n",
    "    ans = calc_dist(B, C) + min(\n",
    "        calc_dist1(A, B, to_A1),\n",
    "        calc_dist1(A, B, to_A2)\n",
    "    ) + 2\n",
    "\n",
    "# 3:\n",
    "elif B[0] > C[0] and B[1] > C[1]:\n",
    "    to_A1 = [B[0], B[1] + 1]\n",
    "    to_A2 = [B[0] + 1, B[1]]\n",
    "\n",
    "    ans = calc_dist(B, C) + min(\n",
    "        calc_dist1(A, B, to_A1),\n",
    "        calc_dist1(A, B, to_A2)\n",
    "    ) + 2\n",
    "\n",
    "# 4:\n",
    "elif B[0] > C[0] and B[1] < C[1]:\n",
    "    to_A1 = [B[0], B[1] - 1]\n",
    "    to_A2 = [B[0] + 1, B[1]]\n",
    "\n",
    "    ans = calc_dist(B, C) + min(\n",
    "        calc_dist1(A, B, to_A1),\n",
    "        calc_dist1(A, B, to_A2)\n",
    "    ) + 2\n",
    "\n",
    "\n",
    "print(ans)\n"
   ]
  }
 ],
 "metadata": {
  "kernelspec": {
   "display_name": "Python 3",
   "language": "python",
   "name": "python3"
  },
  "language_info": {
   "codemirror_mode": {
    "name": "ipython",
    "version": 3
   },
   "file_extension": ".py",
   "mimetype": "text/x-python",
   "name": "python",
   "nbconvert_exporter": "python",
   "pygments_lexer": "ipython3",
   "version": "3.9.18"
  }
 },
 "nbformat": 4,
 "nbformat_minor": 2
}
